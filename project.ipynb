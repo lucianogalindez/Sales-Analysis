{
 "cells": [
  {
   "cell_type": "markdown",
   "metadata": {},
   "source": [
    "### Import necessary libraries"
   ]
  },
  {
   "cell_type": "code",
   "execution_count": 1,
   "metadata": {},
   "outputs": [],
   "source": [
    "import pandas as pd\n",
    "import os\n",
    "import datetime as dt\n",
    "\n",
    "import matplotlib\n",
    "import matplotlib.pyplot as plt\n",
    "plt.style.use('ggplot')\n",
    "from matplotlib.pyplot import figure\n",
    "\n",
    "%matplotlib inline\n",
    "matplotlib.rcParams['figure.figsize'] = (12, 8)"
   ]
  },
  {
   "cell_type": "markdown",
   "metadata": {},
   "source": [
    "Data Cleaning\n",
    "- Files present the header information in multiple rows, it is necessary to remove those rows\n",
    "- Missing values in the data"
   ]
  },
  {
   "cell_type": "code",
   "execution_count": 2,
   "metadata": {},
   "outputs": [],
   "source": [
    "files = [f for f in os.listdir('./datasets/') if os.path.isfile(os.path.join('./datasets/', f))]\n",
    "\n",
    "# Create new CSV files without issues\n",
    "for file in files:\n",
    "    original_df = pd.read_csv('./datasets/' + file)\n",
    "\n",
    "    for i in range(len(original_df)):\n",
    "        if (original_df.loc[i, 'Order Date'] == 'Order Date'):\n",
    "            original_df.drop(i, axis=0, inplace=True)\n",
    "\n",
    "    # Dropping NA rows\n",
    "    df = original_df.dropna()\n",
    "\n",
    "    df.to_csv(file + ' - corrected version.csv', index=False)\n",
    "         \n",
    "\n"
   ]
  },
  {
   "cell_type": "markdown",
   "metadata": {},
   "source": [
    "Task #1 - Merging 12 months of sales data into a single file"
   ]
  },
  {
   "cell_type": "code",
   "execution_count": 5,
   "metadata": {},
   "outputs": [],
   "source": [
    "files = [f for f in os.listdir('./datasets_fixed/') if os.path.isfile(os.path.join('./datasets_fixed/', f))]\n",
    "\n",
    "df = pd.DataFrame()\n",
    "\n",
    "for file in files:\n",
    "    df = pd.concat([df, pd.read_csv('./datasets_fixed/' + file)])\n",
    "\n",
    "df.to_csv('all_data.csv', index=False)"
   ]
  },
  {
   "cell_type": "markdown",
   "metadata": {},
   "source": [
    "Task #2 - Read updated dataframe"
   ]
  },
  {
   "cell_type": "code",
   "execution_count": 6,
   "metadata": {},
   "outputs": [],
   "source": [
    "all_data = pd.read_csv('./all_data.csv')\n",
    "all_data.head()\n",
    "\n",
    "# Transform 'Order Date' column into a datetime object\n",
    "all_data['Order Date'] = pd.to_datetime(all_data['Order Date'])"
   ]
  },
  {
   "cell_type": "markdown",
   "metadata": {},
   "source": [
    "Question #1 - What was the best month for sales? How much was earned that month?"
   ]
  },
  {
   "cell_type": "markdown",
   "metadata": {},
   "source": [
    "- Adding additional columns"
   ]
  },
  {
   "cell_type": "code",
   "execution_count": 56,
   "metadata": {},
   "outputs": [],
   "source": [
    "all_data['Month'] = all_data['Order Date'].dt.month_name()\n",
    "all_data['Order Total'] = all_data['Price Each'] * all_data['Quantity Ordered']\n"
   ]
  },
  {
   "cell_type": "markdown",
   "metadata": {},
   "source": [
    "- Discover the best month for sales"
   ]
  },
  {
   "cell_type": "code",
   "execution_count": null,
   "metadata": {},
   "outputs": [],
   "source": [
    "sales_per_month = all_data.groupby('Month', as_index=False).agg({'Order Total': 'sum'}).sort_values(by='Order Total', ascending=False)\n",
    "\n",
    "sales_plot = sales_per_month.plot(kind='bar', y='Order Total', x='Month', title='Sales per Month')\n",
    "sales_plot.set_ylabel('Total Sales in Millons (USD)')\n",
    "sales_plot.set_xlabel('Month')\n",
    "\n",
    "# Best Month: December with $ 4.613.443,34"
   ]
  },
  {
   "cell_type": "markdown",
   "metadata": {},
   "source": [
    "Question #2 - What city had the highest number of Sales"
   ]
  },
  {
   "cell_type": "markdown",
   "metadata": {},
   "source": [
    "- Create a new column for City"
   ]
  },
  {
   "cell_type": "code",
   "execution_count": 45,
   "metadata": {},
   "outputs": [],
   "source": [
    "# Option 1:\n",
    "#all_data['City'] = all_data['Purchase Address'].str.split(', ').str[1]\n",
    "\n",
    "# Option 2:\n",
    "def get_city(address):\n",
    "    return f\"{address.split(', ')[1]}, {address.split(', ')[2][0:2]}\"\n",
    "\n",
    "all_data['City'] = all_data['Purchase Address'].apply(lambda x: get_city(x))\n"
   ]
  },
  {
   "cell_type": "markdown",
   "metadata": {},
   "source": [
    "- Discover the city with the highest sales"
   ]
  },
  {
   "cell_type": "code",
   "execution_count": null,
   "metadata": {},
   "outputs": [],
   "source": [
    "sales_per_city = all_data.groupby('City').agg({'Order Total': 'sum'}).sort_values(by='Order Total', ascending=False)\n",
    "\n",
    "sales_city_plot = sales_per_city.plot(kind='bar', y='Order Total', title='Sales per City')\n",
    "sales_city_plot.set_ylabel('Total Sales in Millions (USD)')\n",
    "sales_city_plot.set_xlabel('City')\n",
    "\n",
    "# City with the highest sales: San Francisco"
   ]
  },
  {
   "cell_type": "markdown",
   "metadata": {},
   "source": [
    "Question #3 - What time should we display advertisements to maximize the likelihood of purchases?"
   ]
  },
  {
   "cell_type": "markdown",
   "metadata": {},
   "source": [
    "- Create a new columns to analize the hours with the most activity"
   ]
  },
  {
   "cell_type": "code",
   "execution_count": 57,
   "metadata": {},
   "outputs": [],
   "source": [
    "all_data['Activity Hours'] = all_data['Order Date'].dt.hour"
   ]
  },
  {
   "cell_type": "markdown",
   "metadata": {},
   "source": [
    "- Discover the hours with the most activity through a line plot"
   ]
  },
  {
   "cell_type": "code",
   "execution_count": null,
   "metadata": {},
   "outputs": [],
   "source": [
    "activity_hours = all_data.groupby('Activity Hours').agg({'Quantity Ordered': 'sum'})\n",
    "\n",
    "activity_hours_plot = activity_hours.plot(y='Quantity Ordered', title='Activity vs Hours')\n",
    "\n",
    "activity_hours_plot.set_ylabel('Amount of Orders')\n",
    "activity_hours_plot.set_xlabel('Hours')\n",
    "activity_hours_plot.set_xticks(activity_hours.index)\n",
    "activity_hours_plot.grid()\n",
    "\n",
    "# Taking into acount the chart, my recomendation would be arount 11am (11) or 7pm (19) because those are the periods with more activity"
   ]
  },
  {
   "cell_type": "markdown",
   "metadata": {},
   "source": [
    "Question #4 - What products are most often sold together? "
   ]
  },
  {
   "cell_type": "markdown",
   "metadata": {},
   "source": [
    "- Prepare and modify the original DataFrame"
   ]
  },
  {
   "cell_type": "code",
   "execution_count": 15,
   "metadata": {},
   "outputs": [],
   "source": [
    "# Count the number of product types per order\n",
    "products_per_order = all_data.groupby('Order ID', as_index=False)['Product'].count()\n",
    "\n",
    "# Subset orders with more than one product type\n",
    "mixed_orders_numbers = products_per_order[products_per_order['Product'] > 1]['Order ID']\n",
    "\n",
    "# Subset original Dataframe with the orders filtered above\n",
    "all_data_mixed_orders = all_data[all_data['Order ID'].isin(mixed_orders_numbers)]\n",
    "\n",
    "# Easier way to do the same\n",
    "# all_data_mixed_orders2 = all_data[all_data['Order ID'].duplicated(keep=False)]\n",
    "\n",
    "def concat_orders(col1):\n",
    "    \"\"\" \n",
    "    This function returns an array with all the different products contained in the order \n",
    "    \"\"\"\n",
    "    products = []\n",
    "\n",
    "    for i in col1.values:\n",
    "        products.append(i)\n",
    "\n",
    "    return products\n",
    "\n",
    "grouped_orders = all_data_mixed_orders.groupby('Order ID', as_index=False)['Product'].agg(concat_orders)\n",
    "\n",
    "\n"
   ]
  },
  {
   "cell_type": "markdown",
   "metadata": {},
   "source": [
    "- Create new STRING column with products involved in the combo"
   ]
  },
  {
   "cell_type": "code",
   "execution_count": 18,
   "metadata": {},
   "outputs": [],
   "source": [
    "grouped_orders['Products'] = grouped_orders['Product'].str.join(',')"
   ]
  },
  {
   "cell_type": "markdown",
   "metadata": {},
   "source": [
    "- Discover the most popular combo"
   ]
  },
  {
   "cell_type": "code",
   "execution_count": null,
   "metadata": {},
   "outputs": [],
   "source": [
    "from itertools import combinations\n",
    "from collections import Counter\n",
    "\n",
    "count = Counter()\n",
    "\n",
    "for row in grouped_orders['Products']:\n",
    "    row_list = row.split(',')\n",
    "    count.update(Counter(combinations(row_list, 2)))\n",
    "\n",
    "for key, value in count.most_common(10):\n",
    "    print(f\"{key[0]} - {key[1]}: {value}\")\n",
    "\n",
    "# Most Popular Combo: Iphone - Lightning Charging Cable: 1005 orders"
   ]
  },
  {
   "cell_type": "markdown",
   "metadata": {},
   "source": [
    "Question #5 - What product sold the most? Why do you think it did"
   ]
  },
  {
   "cell_type": "markdown",
   "metadata": {},
   "source": [
    "- Discover the best-selling product"
   ]
  },
  {
   "cell_type": "code",
   "execution_count": 68,
   "metadata": {},
   "outputs": [
    {
     "name": "stderr",
     "output_type": "stream",
     "text": [
      "C:\\Users\\luciano.g\\AppData\\Local\\Temp\\ipykernel_26804\\2140265458.py:13: UserWarning: FixedFormatter should only be used together with FixedLocator\n",
      "  ax1.set_xticklabels(best_selling_products['Product'], rotation='vertical', size=8)\n"
     ]
    },
    {
     "data": {
      "image/png": "[encoded data removed]",
      "text/plain": [
       "<Figure size 864x576 with 2 Axes>"
      ]
     },
     "metadata": {
      "needs_background": "light"
     },
     "output_type": "display_data"
    }
   ],
   "source": [
    "best_selling_products = all_data.groupby(['Product', 'Price Each'], as_index=False).agg({'Quantity Ordered': 'sum'}).sort_values('Quantity Ordered', ascending=False)\n",
    "\n",
    "fig, ax1 = plt.subplots()\n",
    "ax2 = ax1.twinx()\n",
    "\n",
    "fig.suptitle('Product Analysis', fontsize=20)\n",
    "\n",
    "ax1.bar(best_selling_products['Product'], best_selling_products['Quantity Ordered'])\n",
    "ax2.plot(best_selling_products['Product'], best_selling_products['Price Each'], 'black')\n",
    "\n",
    "ax1.set_ylabel('Quantity Ordered')\n",
    "ax2.set_ylabel('Individual Price ($)')\n",
    "ax1.set_xticklabels(best_selling_products['Product'], rotation='vertical', size=8)\n",
    "\n",
    "plt.show()\n",
    "\n",
    "# The best-selling products are also the most cheapest, which makes sense, and the most expensive products have lower sales\n",
    "# However, products like 'Macbook Pro Laptop' are not the least sold despite being the most expensive. This may be due to the fact that these are products that people want despite their price, since they are very useful and have an excellent quality."
   ]
  }
 ],
 "metadata": {
  "kernelspec": {
   "display_name": "Python 3.9.5 64-bit",
   "language": "python",
   "name": "python3"
  },
  "language_info": {
   "codemirror_mode": {
    "name": "ipython",
    "version": 3
   },
   "file_extension": ".py",
   "mimetype": "text/x-python",
   "name": "python",
   "nbconvert_exporter": "python",
   "pygments_lexer": "ipython3",
   "version": "3.9.5"
  },
  "orig_nbformat": 4,
  "vscode": {
   "interpreter": {
    "hash": "52634da84371cba311ea128a5ea7cdc41ff074b781779e754b270ff9f8153cee"
   }
  }
 },
 "nbformat": 4,
 "nbformat_minor": 2
}
